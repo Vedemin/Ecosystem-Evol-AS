{
 "cells": [
  {
   "cell_type": "code",
   "execution_count": 5,
   "metadata": {},
   "outputs": [],
   "source": [
    "from Environment import Ecosystem"
   ]
  },
  {
   "cell_type": "code",
   "execution_count": 6,
   "metadata": {},
   "outputs": [],
   "source": [
    "default_params = {\n",
    "  \"mapsize\": 1024,\n",
    "  \"min_depth\": 10,\n",
    "  \"max_depth\": 20,\n",
    "  \"starting_population\": 10,\n",
    "  \"food_value\": 200,\n",
    "  \"max_timesteps\": 200000,\n",
    "  \"movement_cost_factor\": 0.005,\n",
    "  \"food_per_agent\": 4,\n",
    "  \"egg_incubation_time\": 100,\n",
    "  \"mutation_factor\": 2\n",
    "}"
   ]
  },
  {
   "cell_type": "code",
   "execution_count": 7,
   "metadata": {},
   "outputs": [
    {
     "name": "stdout",
     "output_type": "stream",
     "text": [
      "[[10 10 10 ... 11 11 11]\n",
      " [10 10 10 ... 11 11 11]\n",
      " [10 10 10 ... 11 11 11]\n",
      " ...\n",
      " [12 12 12 ... 20 20 20]\n",
      " [12 12 12 ... 20 20 20]\n",
      " [12 12 12 ... 20 20 20]]\n",
      "Agent death\n",
      "Agent death\n",
      "Agent death\n",
      "Agent death\n",
      "Agent death\n",
      "Agent death\n",
      "Agent death\n",
      "Agent death\n",
      "Agent death\n",
      "Agent death\n",
      "Agent death\n",
      "Agent death\n",
      "Agent death\n",
      "Agent death\n",
      "Agent death\n",
      "Agent death\n",
      "Agent death\n",
      "Agent death\n",
      "Agent death\n",
      "Agent death\n",
      "Agent death\n",
      "Agent death\n",
      "Agent death\n",
      "Agent death\n",
      "Agent death\n",
      "Agent death\n",
      "Agent death\n",
      "Agent death\n",
      "Agent death\n",
      "Agent death\n",
      "Agent death\n",
      "Agent death\n",
      "Agent death\n",
      "Agent death\n",
      "Agent death\n",
      "Agent death\n",
      "Agent death\n",
      "Agent death\n",
      "Agent death\n",
      "Agent death\n",
      "Agent death\n",
      "Agent death\n",
      "Agent death\n",
      "Agent death\n",
      "Agent death\n",
      "Agent death\n",
      "Agent death\n",
      "Agent death\n",
      "Agent death\n",
      "Agent death\n",
      "Agent death\n",
      "Agent death\n",
      "Agent death\n",
      "Agent death\n",
      "Agent death\n",
      "Agent death\n",
      "Agent death\n",
      "Agent death\n",
      "Agent death\n",
      "Agent death\n",
      "Agent death\n",
      "Agent death\n",
      "Agent death\n",
      "Agent death\n",
      "Agent death\n",
      "Agent death\n",
      "Agent death\n",
      "Agent death\n",
      "Agent death\n",
      "Agent death\n",
      "Agent death\n",
      "Agent death\n",
      "Agent death\n",
      "Agent death\n",
      "Agent death\n",
      "Agent death\n",
      "Agent death\n",
      "Agent death\n",
      "Agent death\n",
      "Agent death\n",
      "Agent death\n",
      "Agent death\n",
      "Agent death\n",
      "Agent death\n",
      "Agent death\n",
      "Agent death\n",
      "Agent death\n",
      "Agent death\n",
      "Agent death\n",
      "Agent death\n",
      "Closing environment Ecosystem at 6152 timestep.\n"
     ]
    }
   ],
   "source": [
    "env = Ecosystem(\"human\", params=default_params, debug=False)\n",
    "env.reset()\n",
    "for i in range(10000000):\n",
    "  env.stepper()\n",
    "  if len(env.agentNames) == 0:\n",
    "    break\n",
    "env.close()"
   ]
  },
  {
   "cell_type": "code",
   "execution_count": 8,
   "metadata": {},
   "outputs": [
    {
     "name": "stdout",
     "output_type": "stream",
     "text": [
      "Closing environment Ecosystem at 6152 timestep.\n"
     ]
    }
   ],
   "source": [
    "env.close()"
   ]
  },
  {
   "cell_type": "code",
   "execution_count": null,
   "metadata": {},
   "outputs": [],
   "source": []
  }
 ],
 "metadata": {
  "kernelspec": {
   "display_name": "venv_cpu",
   "language": "python",
   "name": "python3"
  },
  "language_info": {
   "codemirror_mode": {
    "name": "ipython",
    "version": 3
   },
   "file_extension": ".py",
   "mimetype": "text/x-python",
   "name": "python",
   "nbconvert_exporter": "python",
   "pygments_lexer": "ipython3",
   "version": "3.11.9"
  }
 },
 "nbformat": 4,
 "nbformat_minor": 2
}
