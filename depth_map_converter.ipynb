{
 "cells": [
  {
   "cell_type": "code",
   "execution_count": 6,
   "metadata": {},
   "outputs": [
    {
     "data": {
      "text/plain": [
       "True"
      ]
     },
     "execution_count": 6,
     "metadata": {},
     "output_type": "execute_result"
    }
   ],
   "source": [
    "import cv2\n",
    "import numpy as np\n",
    "\n",
    "# Load the image\n",
    "input_image = \"bathymetry.png\"\n",
    "output_image = \"lv_depthmap.png\"\n",
    "\n",
    "# Read the image as an RGB image\n",
    "rgb_image = cv2.imread(input_image, cv2.IMREAD_COLOR)\n",
    "\n",
    "def rgb_to_grayscale_heatmap(rgb_image):\n",
    "    # Define the colormap (assuming Jet colormap was used)\n",
    "    colormap = cv2.COLORMAP_JET\n",
    "\n",
    "    # Generate the colormap lookup table (LUT)\n",
    "    num_colors = 256\n",
    "    colormap_image = np.linspace(0, 255, num_colors, dtype=np.uint8).reshape(-1, 1)\n",
    "    color_lut = cv2.applyColorMap(colormap_image, colormap).reshape(-1, 3)\n",
    "\n",
    "    # Convert the LUT to a float representation for smooth transitions\n",
    "    color_lut = color_lut.astype(np.float32) / 255.0\n",
    "\n",
    "    # Normalize the input image to float32 [0, 1]\n",
    "    float_rgb = rgb_image.astype(np.float32) / 255.0\n",
    "    reshaped_rgb = float_rgb.reshape(-1, 3)\n",
    "\n",
    "    # Calculate scalar values by interpolating the LUT\n",
    "    scalar_values = np.zeros(reshaped_rgb.shape[0], dtype=np.float32)\n",
    "    for i, color in enumerate(reshaped_rgb):\n",
    "        distances = np.linalg.norm(color_lut - color, axis=1)\n",
    "        scalar_values[i] = np.argmin(distances)\n",
    "\n",
    "    # Reshape to original image size\n",
    "    scalar_image = scalar_values.reshape(rgb_image.shape[:2])\n",
    "\n",
    "    # Normalize to invert brightness (red -> dark, blue -> light)\n",
    "    scalar_image = cv2.normalize(scalar_image, None, 255, 0, cv2.NORM_MINMAX)\n",
    "\n",
    "    # Ensure black and white regions remain unchanged\n",
    "    grayscale_image = scalar_image.astype(np.uint8)\n",
    "    black_mask = cv2.inRange(rgb_image, (0, 0, 0), (0, 0, 0))\n",
    "    white_mask = cv2.inRange(rgb_image, (255, 255, 255), (255, 255, 255))\n",
    "    grayscale_image[black_mask > 0] = 0\n",
    "    grayscale_image[white_mask > 0] = 255\n",
    "\n",
    "    return grayscale_image\n",
    "\n",
    "# Convert and save the grayscale heatmap\n",
    "grayscale_image = rgb_to_grayscale_heatmap(rgb_image)\n",
    "cv2.imwrite(output_image, grayscale_image)\n"
   ]
  },
  {
   "cell_type": "code",
   "execution_count": null,
   "metadata": {},
   "outputs": [],
   "source": []
  }
 ],
 "metadata": {
  "kernelspec": {
   "display_name": "venv_cpu",
   "language": "python",
   "name": "python3"
  },
  "language_info": {
   "codemirror_mode": {
    "name": "ipython",
    "version": 3
   },
   "file_extension": ".py",
   "mimetype": "text/x-python",
   "name": "python",
   "nbconvert_exporter": "python",
   "pygments_lexer": "ipython3",
   "version": "3.11.9"
  }
 },
 "nbformat": 4,
 "nbformat_minor": 2
}
